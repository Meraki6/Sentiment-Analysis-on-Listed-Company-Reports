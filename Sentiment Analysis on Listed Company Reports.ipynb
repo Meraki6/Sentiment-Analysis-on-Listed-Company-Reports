{
 "cells": [
  {
   "cell_type": "markdown",
   "metadata": {},
   "source": [
    "# Python Group Project"
   ]
  },
  {
   "cell_type": "markdown",
   "metadata": {},
   "source": [
    "### 1 Project  Description"
   ]
  },
  {
   "cell_type": "markdown",
   "metadata": {},
   "source": [
    "This Python project analyzes the positivity or negativity of 'financial 8-K reports' by sentiment analysis."
   ]
  },
  {
   "cell_type": "markdown",
   "metadata": {},
   "source": [
    "### 2 Thoughts"
   ]
  },
  {
   "cell_type": "markdown",
   "metadata": {},
   "source": [
    "We use many methods to count the scores of the report.\n",
    "* First, we divide each report into sentences and count the scores of each sentences by adding scores of the sentiment words appearing in them. \n",
    "* Then, we minus *twice* scores of the word,if the word has `negative prefixes or posts`. \n",
    "* Moreover, we multiply *(-1)* to the scores of the sentence if there are odd numbers of any `negative words` like 'not' in the sentence."
   ]
  },
  {
   "cell_type": "markdown",
   "metadata": {},
   "source": [
    "### 3 Codes"
   ]
  },
  {
   "cell_type": "code",
   "execution_count": 56,
   "metadata": {},
   "outputs": [],
   "source": [
    "# combine senti_words in a dictionary\n",
    "import csv\n",
    "word={}\n",
    "with open('./senti_dict.csv', 'r') as f:\n",
    "    reader = csv.reader(f)\n",
    "    for i in reader:\n",
    "        if i==['','Words','Scores']:\n",
    "            continue\n",
    "        else:\n",
    "            word[i[1]]=i[2]"
   ]
  },
  {
   "cell_type": "code",
   "execution_count": 57,
   "metadata": {},
   "outputs": [],
   "source": [
    "# these are lists of nagative prefixes, nagetive postfixes and negative words we define\n",
    "nega_pre=['dis','im','in','ir','il','un','non','mis','de','conuter','anti','mal','under']\n",
    "nega_post=['less','free','proof']\n",
    "nega_word=['no','not','never','none','neither','seldom','hardly','nobody','nothing','nowhere']"
   ]
  },
  {
   "cell_type": "code",
   "execution_count": 58,
   "metadata": {},
   "outputs": [],
   "source": [
    "# define a function to calculate total scores of the report\n",
    "def get_scores(f):\n",
    "    import codecs\n",
    "    fo=codecs.open(f,encoding='UTF-8')\n",
    "    txt=fo.read()\n",
    "    sentences=txt.split('.')\n",
    "    fo.close()\n",
    "    mark={} # dictionary whose keys are the index of each_sentence in text and whose values are the corrsponding scores\n",
    "    for (index,sentence) in enumerate(sentences): # divide the report into each sentence\n",
    "        for each_words in sentence.split(' '): # divide each sentence into each_words\n",
    "            for key in word.keys(): # find whether senti_word(key) is the 'each_words' or not\n",
    "                if key in each_words: \n",
    "                    mark[index]=mark.get(index,0)+float(word[key])\n",
    "                    for i in nega_pre: # find whether each_words has the neagtive prefix or not\n",
    "                        if i in each_words:\n",
    "                            if each_words[:len(i)] == i:\n",
    "                                mark[index]=mark.get(index,0)+float(word[key])*(-2)\n",
    "                    for ii in nega_post:# find whether each_words has the nagetive postfix or not\n",
    "                        if ii in each_words:\n",
    "                            if each_words[-len(ii):] == ii:\n",
    "                                mark[index]=mark.get(index,0)+float(word[key])*(-2)\n",
    "                else:\n",
    "                    mark[index]=mark.get(index,0)\n",
    "        nega_n=0 # find whether the negative words are in sentence or not and count the number to check if it is odd\n",
    "        for nega in nega_word:\n",
    "            if nega in sentence:\n",
    "                nega_n+=1\n",
    "        else:\n",
    "            if nega_n%2!=0:\n",
    "                mark[index]*=(-1)\n",
    "    total_score=0\n",
    "    for key in mark.keys():\n",
    "        total_score+=mark[key]\n",
    "    return (1 if total_score>0 else 0) # we define 1 for positive total scores and 0 for nonpositive scores"
   ]
  },
  {
   "cell_type": "code",
   "execution_count": 59,
   "metadata": {
    "scrolled": true
   },
   "outputs": [],
   "source": [
    "# output the predicted label of the reports in test.txt \n",
    "import os\n",
    "path='./test'\n",
    "file=os.listdir(path)\n",
    "file.sort(key=lambda x:int(x.split('.')[0]))\n",
    "final_score=[(i.split('.')[0])+':'+str(get_scores(path+'/'+i))+('' if i == '2499.txt' else '\\n') for i in file]\n",
    "fw=open('./predicted_label.txt','w')\n",
    "fw.writelines(final_score)\n",
    "fw.close()"
   ]
  },
  {
   "cell_type": "markdown",
   "metadata": {},
   "source": [
    "#### The output needs about 2 minutes."
   ]
  }
 ],
 "metadata": {
  "kernelspec": {
   "display_name": "Python 3",
   "language": "python",
   "name": "python3"
  },
  "language_info": {
   "codemirror_mode": {
    "name": "ipython",
    "version": 3
   },
   "file_extension": ".py",
   "mimetype": "text/x-python",
   "name": "python",
   "nbconvert_exporter": "python",
   "pygments_lexer": "ipython3",
   "version": "3.7.3"
  }
 },
 "nbformat": 4,
 "nbformat_minor": 2
}
